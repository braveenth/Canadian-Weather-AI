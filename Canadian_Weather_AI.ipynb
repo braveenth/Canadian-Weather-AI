{
  "nbformat": 4,
  "nbformat_minor": 0,
  "metadata": {
    "colab": {
      "provenance": [],
      "authorship_tag": "ABX9TyNOCJDWE2EyJWMlLW2r3mJ6",
      "include_colab_link": true
    },
    "kernelspec": {
      "name": "python3",
      "display_name": "Python 3"
    },
    "language_info": {
      "name": "python"
    }
  },
  "cells": [
    {
      "cell_type": "markdown",
      "metadata": {
        "id": "view-in-github",
        "colab_type": "text"
      },
      "source": [
        "<a href=\"https://colab.research.google.com/github/braveenth/Canadian-Weather-AI/blob/main/Canadian_Weather_AI.ipynb\" target=\"_parent\"><img src=\"https://colab.research.google.com/assets/colab-badge.svg\" alt=\"Open In Colab\"/></a>"
      ]
    },
    {
      "cell_type": "markdown",
      "source": [
        "#Canadian Weather AI\n",
        "By: Braveenth Rasanayagam\n",
        "\n",
        "Multi-modal\n",
        "- Vision\n",
        "- Text to Voice\n",
        "\n",
        "Cloud Run Jobs"
      ],
      "metadata": {
        "id": "umi3NzPEIRQ2"
      }
    },
    {
      "cell_type": "code",
      "execution_count": 27,
      "metadata": {
        "colab": {
          "base_uri": "https://localhost:8080/",
          "height": 774
        },
        "id": "O2Z0y6IIqPsr",
        "outputId": "70e939d4-e6f7-4a56-f847-df2441c75cd7"
      },
      "outputs": [
        {
          "output_type": "stream",
          "name": "stdout",
          "text": [
            "https://weather.gc.ca/data/jet_stream/tempmapwx_e.gif\n",
            "  % Total    % Received % Xferd  Average Speed   Time    Time     Time  Current\n",
            "                                 Dload  Upload   Total   Spent    Left  Speed\n",
            "100  275k  100  275k    0     0   730k      0 --:--:-- --:--:-- --:--:--  731k\n"
          ]
        },
        {
          "output_type": "execute_result",
          "data": {
            "text/html": [
              "<img src=\"https://weather.gc.ca/data/jet_stream/tempmapwx_e.gif\"/>"
            ],
            "text/plain": [
              "<IPython.core.display.Image object>"
            ]
          },
          "metadata": {},
          "execution_count": 27
        }
      ],
      "source": [
        "image_url = \"https://weather.gc.ca/data/jet_stream/tempmapwx_e.gif\"\n",
        "print(image_url)\n",
        "!curl -o case_image.png {image_url}\n",
        "\n",
        "from IPython.display import Image\n",
        "Image(\"/content/jet_stream.png\")\n",
        "Image(url=image_url)"
      ]
    },
    {
      "cell_type": "code",
      "source": [
        "import os\n",
        "\n",
        "try:\n",
        "    # Attempt to import the google.colab module to see if the program is running in Colab.\n",
        "    from google.colab import userdata\n",
        "    print(\"Running on Google Colab\")\n",
        "    !pip install openai\n",
        "    !pip install pydub\n",
        "    from openai import OpenAI\n",
        "    client = OpenAI(api_key=userdata.get('OPENAI_API_KEY'))\n",
        "    !mkdir -p /content/text\n",
        "    !mkdir -p /content/voice\n",
        "    !mkdir -p /content/assets\n",
        "    !curl -o \"/content/assets/WeatherNetwork.mp3\" \"https://storage.googleapis.com/can-weather-ai/assets/WeatherNetwork.mp3\"\n",
        "\n",
        "except ImportError:\n",
        "    # The ImportError exception will be raised if the google.colab module is not found,\n",
        "    # indicating that the program is not running inside Google Colab.\n",
        "    print(\"Running outside of Google Colab\")\n",
        "    client = OpenAI(api_key=(os.environ.get('OPENAI_API_KEY')))\n",
        "\n",
        "from openai import OpenAI\n",
        "client = OpenAI(api_key=userdata.get('OPENAI_API_KEY'))"
      ],
      "metadata": {
        "colab": {
          "base_uri": "https://localhost:8080/"
        },
        "id": "8DWsynJMzX29",
        "outputId": "125a0b74-248d-4621-ffd6-19f9c7967a5f"
      },
      "execution_count": 28,
      "outputs": [
        {
          "output_type": "stream",
          "name": "stdout",
          "text": [
            "Running on Google Colab\n",
            "Requirement already satisfied: openai in /usr/local/lib/python3.10/dist-packages (1.14.2)\n",
            "Requirement already satisfied: anyio<5,>=3.5.0 in /usr/local/lib/python3.10/dist-packages (from openai) (3.7.1)\n",
            "Requirement already satisfied: distro<2,>=1.7.0 in /usr/lib/python3/dist-packages (from openai) (1.7.0)\n",
            "Requirement already satisfied: httpx<1,>=0.23.0 in /usr/local/lib/python3.10/dist-packages (from openai) (0.27.0)\n",
            "Requirement already satisfied: pydantic<3,>=1.9.0 in /usr/local/lib/python3.10/dist-packages (from openai) (2.6.4)\n",
            "Requirement already satisfied: sniffio in /usr/local/lib/python3.10/dist-packages (from openai) (1.3.1)\n",
            "Requirement already satisfied: tqdm>4 in /usr/local/lib/python3.10/dist-packages (from openai) (4.66.2)\n",
            "Requirement already satisfied: typing-extensions<5,>=4.7 in /usr/local/lib/python3.10/dist-packages (from openai) (4.10.0)\n",
            "Requirement already satisfied: idna>=2.8 in /usr/local/lib/python3.10/dist-packages (from anyio<5,>=3.5.0->openai) (3.6)\n",
            "Requirement already satisfied: exceptiongroup in /usr/local/lib/python3.10/dist-packages (from anyio<5,>=3.5.0->openai) (1.2.0)\n",
            "Requirement already satisfied: certifi in /usr/local/lib/python3.10/dist-packages (from httpx<1,>=0.23.0->openai) (2024.2.2)\n",
            "Requirement already satisfied: httpcore==1.* in /usr/local/lib/python3.10/dist-packages (from httpx<1,>=0.23.0->openai) (1.0.4)\n",
            "Requirement already satisfied: h11<0.15,>=0.13 in /usr/local/lib/python3.10/dist-packages (from httpcore==1.*->httpx<1,>=0.23.0->openai) (0.14.0)\n",
            "Requirement already satisfied: annotated-types>=0.4.0 in /usr/local/lib/python3.10/dist-packages (from pydantic<3,>=1.9.0->openai) (0.6.0)\n",
            "Requirement already satisfied: pydantic-core==2.16.3 in /usr/local/lib/python3.10/dist-packages (from pydantic<3,>=1.9.0->openai) (2.16.3)\n",
            "Requirement already satisfied: pydub in /usr/local/lib/python3.10/dist-packages (0.25.1)\n",
            "  % Total    % Received % Xferd  Average Speed   Time    Time     Time  Current\n",
            "                                 Dload  Upload   Total   Spent    Left  Speed\n",
            "100 64.1M  100 64.1M    0     0  98.9M      0 --:--:-- --:--:-- --:--:-- 98.9M\n"
          ]
        }
      ]
    },
    {
      "cell_type": "code",
      "source": [
        "canadianMetric = {}\n",
        "\n",
        "canadianMetric[0] = \"not Canadian\"\n",
        "canadianMetric[1] = \"somewhat Canadian\"\n",
        "canadianMetric[2] = \"slightly Canadian\"\n",
        "canadianMetric[3] = \"moderately Canadian\"\n",
        "canadianMetric[4] = \"very Canadian\"\n",
        "canadianMetric[5] = \"as Canadian as possible\""
      ],
      "metadata": {
        "id": "V8VydbPVFggt"
      },
      "execution_count": 29,
      "outputs": []
    },
    {
      "cell_type": "code",
      "source": [
        "gpt_mode = \"gpt-4-vision-preview\"\n",
        "imagePrompt = \"You are a Canadian weatherperson. Present this jet stream information to an audience. Make it sound very Canadian. It should sound as Canadian as absolutely possible.\"\n",
        "image_url = \"https://weather.gc.ca/data/jet_stream/tempmapwx_e.gif\"\n",
        "\n",
        "response = client.chat.completions.create(\n",
        "  model=\"gpt-4-vision-preview\",\n",
        "  messages=[\n",
        "    {\n",
        "      \"role\": \"user\",\n",
        "      \"content\": [\n",
        "        {\"type\": \"text\", \"text\": imagePrompt},\n",
        "        {\n",
        "          \"type\": \"image_url\",\n",
        "          \"image_url\": {\n",
        "            \"url\": image_url,\n",
        "          },\n",
        "        },\n",
        "      ],\n",
        "    }\n",
        "  ],\n",
        "  max_tokens=600,\n",
        "  temperature=0.7,\n",
        "  top_p=1,\n",
        "  frequency_penalty=0,\n",
        "  presence_penalty=0\n",
        ")\n",
        "\n",
        "print(response.choices[0])"
      ],
      "metadata": {
        "colab": {
          "base_uri": "https://localhost:8080/"
        },
        "id": "1ChT820dxzsj",
        "outputId": "b7722c81-6f8a-41fd-a63f-9f7f05b32df8"
      },
      "execution_count": 30,
      "outputs": [
        {
          "output_type": "stream",
          "name": "stdout",
          "text": [
            "Choice(finish_reason='stop', index=0, logprobs=None, message=ChatCompletionMessage(content=\"Hey there, folks! Grab yourself a cup of Timmies and let's take a look at what's cookin' with our Canadian weather, eh? We're taking a gander at the jet stream map valid for Wednesday, March 20, 2024, at 18:00 UTC, brought to you by Environment Canada.\\n\\nAlrighty, we've got a classic Canadian setup here with the jet stream dippin' down and bringing in some chilly air from the north. You betcha, it's gonna be colder than a polar bear's toenails in some parts, so you'll want to keep your toque handy and maybe throw on an extra layer, like your favourite hockey jersey, before you head out for a rip.\\n\\nOver on the West Coast, British Columbia's lookin' like it's in for a mix of conditions, with the possibility of some snowfall up in the mountains, eh? Perfect for hittin' the slopes, just make sure you're prepared for that mountain weather.\\n\\nScooching across to the Prairies, we've got a high-pressure system that's keepin' things clearer in Alberta and Saskatchewan, but don't let that fool ya – it's gonna be crisp out there, so keep those mittens close by.\\n\\nNow, as we take a peek at Central Canada, we can see that Ontario and Quebec might be dealin' with some active weather, including the chance of some snow or even some freezing rain. So, remember to drive safe on the 401 and maybe give yourself some extra time, alright?\\n\\nFor my friends out in the Maritimes, the Atlantic is cookin' up something fierce with low-pressure systems that could bring a messy mix of rain and snow. So, keep your rubber boots and your shovel ready, just in case.\\n\\nAnd lastly, up North, it’s business as usual with some seriously frigid temperatures, so anyone out there better bundle up like you're preppin' for a dogsled race, 'cause it's gonna be nippy!\\n\\nThat’s the scoop on the jet stream, folks. Remember, whether you’re playing shinny on the pond or just out for a boot, stay warm and stay safe. Take care, and keep your stick on the ice!\", role='assistant', function_call=None, tool_calls=None))\n"
          ]
        }
      ]
    },
    {
      "cell_type": "code",
      "source": [
        "weatherScript = response.choices[0].message.content\n",
        "print(weatherScript)"
      ],
      "metadata": {
        "colab": {
          "base_uri": "https://localhost:8080/"
        },
        "id": "4no0kaGL0tAT",
        "outputId": "ad5f15cb-b1c4-4d88-b062-74dd2b4d60df"
      },
      "execution_count": 31,
      "outputs": [
        {
          "output_type": "stream",
          "name": "stdout",
          "text": [
            "Hey there, folks! Grab yourself a cup of Timmies and let's take a look at what's cookin' with our Canadian weather, eh? We're taking a gander at the jet stream map valid for Wednesday, March 20, 2024, at 18:00 UTC, brought to you by Environment Canada.\n",
            "\n",
            "Alrighty, we've got a classic Canadian setup here with the jet stream dippin' down and bringing in some chilly air from the north. You betcha, it's gonna be colder than a polar bear's toenails in some parts, so you'll want to keep your toque handy and maybe throw on an extra layer, like your favourite hockey jersey, before you head out for a rip.\n",
            "\n",
            "Over on the West Coast, British Columbia's lookin' like it's in for a mix of conditions, with the possibility of some snowfall up in the mountains, eh? Perfect for hittin' the slopes, just make sure you're prepared for that mountain weather.\n",
            "\n",
            "Scooching across to the Prairies, we've got a high-pressure system that's keepin' things clearer in Alberta and Saskatchewan, but don't let that fool ya – it's gonna be crisp out there, so keep those mittens close by.\n",
            "\n",
            "Now, as we take a peek at Central Canada, we can see that Ontario and Quebec might be dealin' with some active weather, including the chance of some snow or even some freezing rain. So, remember to drive safe on the 401 and maybe give yourself some extra time, alright?\n",
            "\n",
            "For my friends out in the Maritimes, the Atlantic is cookin' up something fierce with low-pressure systems that could bring a messy mix of rain and snow. So, keep your rubber boots and your shovel ready, just in case.\n",
            "\n",
            "And lastly, up North, it’s business as usual with some seriously frigid temperatures, so anyone out there better bundle up like you're preppin' for a dogsled race, 'cause it's gonna be nippy!\n",
            "\n",
            "That’s the scoop on the jet stream, folks. Remember, whether you’re playing shinny on the pond or just out for a boot, stay warm and stay safe. Take care, and keep your stick on the ice!\n"
          ]
        }
      ]
    },
    {
      "cell_type": "code",
      "source": [
        "# Save the weatherScript as a file\n",
        "from datetime import datetime\n",
        "\n",
        "date = datetime.now().strftime(\"%Y-%m-%d\")\n",
        "count = 0\n",
        "\n",
        "while os.path.exists(f\"/content/text/ai-canadian-jetstream-{date}_{count}.txt\"):\n",
        "    count += 1\n",
        "file = open(f\"/content/text/ai-canadian-jetstream-{date}_{count}.txt\", \"w\")\n",
        "file.write(weatherScript)\n",
        "file.close()"
      ],
      "metadata": {
        "id": "4xmiS2I3a3Sp"
      },
      "execution_count": 32,
      "outputs": []
    },
    {
      "cell_type": "code",
      "source": [
        "from openai import OpenAI\n",
        "\n",
        "try:\n",
        "    # Attempt to import the google.colab module to see if the program is running in Colab.\n",
        "    from google.colab import userdata\n",
        "    print(\"Running on Google Colab\")\n",
        "    audioClient = OpenAI(api_key=userdata.get('OPENAI_API_KEY'))\n",
        "\n",
        "except ImportError:\n",
        "    # The ImportError exception will be raised if the google.colab module is not found,\n",
        "    # indicating that the program is not running inside Google Colab.\n",
        "    import os\n",
        "    print(\"Running outside of Google Colab\")\n",
        "    audioClient = OpenAI(api_key=(os.environ.get('OPENAI_API_KEY')))\n",
        "\n",
        "audioResponse = audioClient.audio.speech.create(\n",
        "    model=\"tts-1\",\n",
        "    voice=\"onyx\",\n",
        "    input=weatherScript,\n",
        ")\n",
        "\n",
        "filename = f\"weatherperson-output-{date}.mp3\""
      ],
      "metadata": {
        "id": "3ZH_07Z71B7C",
        "colab": {
          "base_uri": "https://localhost:8080/"
        },
        "outputId": "181b989a-69d9-4ba7-b2be-4807e85c2f0f"
      },
      "execution_count": 33,
      "outputs": [
        {
          "output_type": "stream",
          "name": "stdout",
          "text": [
            "Running on Google Colab\n"
          ]
        }
      ]
    },
    {
      "cell_type": "code",
      "source": [
        "audioResponse.stream_to_file(filename)"
      ],
      "metadata": {
        "colab": {
          "base_uri": "https://localhost:8080/"
        },
        "id": "h3cSZyLe2GXl",
        "outputId": "624cf5fd-c26e-4716-cd57-81be1edca642"
      },
      "execution_count": 34,
      "outputs": [
        {
          "output_type": "stream",
          "name": "stderr",
          "text": [
            "<ipython-input-34-02f298be9c94>:1: DeprecationWarning: Due to a bug, this method doesn't actually stream the response content, `.with_streaming_response.method()` should be used instead\n",
            "  audioResponse.stream_to_file(filename)\n"
          ]
        }
      ]
    },
    {
      "cell_type": "code",
      "source": [
        "from pydub import AudioSegment\n",
        "\n",
        "# Export the result\n",
        "weatherPersonFileCount = 0\n",
        "while os.path.exists(f\"/content/weatherperson-output-{date}_{weatherPersonFileCount}.wav\"):\n",
        "    weatherPersonFileCount += 1\n",
        "\n",
        "weatherpersonFile = f\"/content/{filename}-{count}\"\n",
        "audioResponse.stream_to_file(f\"/content/weatherperson-output-{date}_{weatherPersonFileCount}.wav\")\n",
        "\n",
        "# Obtain Audio Files\n",
        "audio_bg_music = AudioSegment.from_file(\"/content/assets/WeatherNetwork.mp3\", format=\"mp3\")\n",
        "audio_weatherperson = AudioSegment.from_file(f\"/content/weatherperson-output-{date}_{weatherPersonFileCount}.wav\", format=\"mp3\")\n",
        "\n",
        "# BG Music Segments from https://www.youtube.com/watch?v=6E2uzYAGPQU\n",
        "#####################################################################\n",
        "# 01. Morning Report (1998) Conclusions 0:00. #\n",
        "# 02. Autumn (1999) Flying V.1 1:59 #\n",
        "# 03. Holidays (2000) Xmas Spirit 3:29\n",
        "# 04. Biding My Time 4:59\n",
        "# 05. Winter (2002-'03) Life to the Full 7:12\n",
        "# 06. Spring-Autumn (2003) Healthy Outlook 8:42\n",
        "# 07. Winter (2003-04) Embrace Life 10:43\n",
        "# 08. Primary Theme (2004-05) Lazing on the Slopes 13:16\n",
        "# 09. Theme (2005-06) Windstar 15:17\n",
        "# 10. Theme (2006-10) 17:17\n",
        "# 11. Theme (2010-201?) Song Contest Winner 19:37\n",
        "# 12. Holiday Version of Theme 11 (2011) 21:58\n",
        "# 13. 25th Anniversary (2004-05 Secondary Theme) 25:02\n",
        "\n",
        "segments = [0] * 12\n",
        "segments[0] = [0, 119000, 5]\n",
        "segments[1] = [119000, 209000, 5]\n",
        "segments[2] = [209000, 299000, 5]\n",
        "segments[3] = [299000, 432000, 7]\n",
        "segments[4] = [432000, 522000, 5]\n",
        "segments[5] = [522000, 643000, 5]\n",
        "segments[6] = [209000, 796000, 5]\n",
        "segments[7] = [209000, 917000, 5]\n",
        "segments[8] = [917000, 1037000, 5]\n",
        "segments[9] = [1037000, 1177000, 5]\n",
        "segments[10] = [1177000, 1318000, 5]\n",
        "segments[11] = [1318000, 1502000, 5]\n",
        "\n",
        "# Define start and end times in milliseconds\n",
        "# Start at 17:22\n",
        "# End at 17:3\n",
        "start_time = 1042000  # Start at 10 seconds\n",
        "end_time = start_time + 120000\n",
        "\n",
        "# Use a Random number between 0 an 11 to obtain the segment number\n",
        "import random\n",
        "segment_number = random.randint(0, 11)\n",
        "\n",
        "# Using Segments Here\n",
        "start_time = segments[segment_number][0] + 1000\n",
        "end_time = segments[segment_number][1]\n",
        "\n",
        "# Slice the audio segment to the desired part\n",
        "specific_part = audio_bg_music[start_time:end_time]\n",
        "\n",
        "# Lower the volume by 10 dB\n",
        "specific_part_quieter = specific_part - segments[segment_number][2]\n",
        "\n",
        "# Overlay the audio files\n",
        "# Here, overlay_audio will start at 0 milliseconds into base_audio\n",
        "combined = specific_part_quieter.overlay(audio_weatherperson, position=0)\n",
        "\n",
        "# Export the result\n",
        "count = 0\n",
        "while os.path.exists(f\"/content/voice/ai-canadian-jetstream-{date}_{count}.mp3\"):\n",
        "    count += 1\n",
        "combined.export(f\"/content/voice/ai-canadian-jetstream-{date}_{count}.mp3\", format=\"mp3\")\n"
      ],
      "metadata": {
        "colab": {
          "base_uri": "https://localhost:8080/"
        },
        "id": "PSjR8yY93MMI",
        "outputId": "2a16a834-2db6-49a8-cea1-20db9cc16c37"
      },
      "execution_count": 36,
      "outputs": [
        {
          "output_type": "stream",
          "name": "stderr",
          "text": [
            "<ipython-input-36-265742550ebd>:9: DeprecationWarning: Due to a bug, this method doesn't actually stream the response content, `.with_streaming_response.method()` should be used instead\n",
            "  audioResponse.stream_to_file(f\"/content/weatherperson-output-{date}_{weatherPersonFileCount}.wav\")\n"
          ]
        },
        {
          "output_type": "execute_result",
          "data": {
            "text/plain": [
              "<_io.BufferedRandom name='/content/voice/ai-canadian-jetstream-2024-03-20_0.mp3'>"
            ]
          },
          "metadata": {},
          "execution_count": 36
        }
      ]
    }
  ]
}