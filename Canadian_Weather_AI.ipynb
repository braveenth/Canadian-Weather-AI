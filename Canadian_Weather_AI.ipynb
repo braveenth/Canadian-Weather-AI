{
  "nbformat": 4,
  "nbformat_minor": 0,
  "metadata": {
    "colab": {
      "provenance": [],
      "authorship_tag": "ABX9TyMdW6J6arB77WK856B3XYj8",
      "include_colab_link": true
    },
    "kernelspec": {
      "name": "python3",
      "display_name": "Python 3"
    },
    "language_info": {
      "name": "python"
    }
  },
  "cells": [
    {
      "cell_type": "markdown",
      "metadata": {
        "id": "view-in-github",
        "colab_type": "text"
      },
      "source": [
        "<a href=\"https://colab.research.google.com/github/braveenth/Canadian-Weather-AI/blob/main/Canadian_Weather_AI.ipynb\" target=\"_parent\"><img src=\"https://colab.research.google.com/assets/colab-badge.svg\" alt=\"Open In Colab\"/></a>"
      ]
    },
    {
      "cell_type": "markdown",
      "source": [
        "#Canadian Weather AI\n",
        "By: Braveenth Rasanayagam\n",
        "\n",
        "Multi-modal\n",
        "- Vision\n",
        "- Text to Voice\n",
        "\n",
        "Cloud Run Jobs"
      ],
      "metadata": {
        "id": "umi3NzPEIRQ2"
      }
    },
    {
      "cell_type": "code",
      "execution_count": 1,
      "metadata": {
        "colab": {
          "base_uri": "https://localhost:8080/",
          "height": 775
        },
        "id": "O2Z0y6IIqPsr",
        "outputId": "bf1802cb-0255-453c-c788-e9d67c0830ee"
      },
      "outputs": [
        {
          "output_type": "stream",
          "name": "stdout",
          "text": [
            "https://weather.gc.ca/data/jet_stream/tempmapwx_e.gif\n",
            "  % Total    % Received % Xferd  Average Speed   Time    Time     Time  Current\n",
            "                                 Dload  Upload   Total   Spent    Left  Speed\n",
            "100  283k  100  283k    0     0   635k      0 --:--:-- --:--:-- --:--:--  636k\n"
          ]
        },
        {
          "output_type": "execute_result",
          "data": {
            "text/html": [
              "<img src=\"https://weather.gc.ca/data/jet_stream/tempmapwx_e.gif\"/>"
            ],
            "text/plain": [
              "<IPython.core.display.Image object>"
            ]
          },
          "metadata": {},
          "execution_count": 1
        }
      ],
      "source": [
        "image_url = \"https://weather.gc.ca/data/jet_stream/tempmapwx_e.gif\"\n",
        "print(image_url)\n",
        "!curl -o case_image.png {image_url}\n",
        "\n",
        "from IPython.display import Image\n",
        "Image(\"/content/jet_stream.png\")\n",
        "Image(url=image_url)"
      ]
    },
    {
      "cell_type": "code",
      "source": [
        "import os\n",
        "\n",
        "try:\n",
        "    # Attempt to import the google.colab module to see if the program is running in Colab.\n",
        "    from google.colab import userdata\n",
        "    print(\"Running on Google Colab\")\n",
        "    !pip install openai\n",
        "    !pip install pydub\n",
        "    from openai import OpenAI\n",
        "    client = OpenAI(api_key=userdata.get('OPENAI_API_KEY'))\n",
        "    !mkdir -p /content/text\n",
        "    !mkdir -p /content/voice\n",
        "    !mkdir -p /content/assets\n",
        "    !curl -o \"/content/assets/WeatherNetwork.mp3\" \"https://storage.googleapis.com/can-weather-ai/assets/WeatherNetwork.mp3\"\n",
        "\n",
        "except ImportError:\n",
        "    # The ImportError exception will be raised if the google.colab module is not found,\n",
        "    # indicating that the program is not running inside Google Colab.\n",
        "    print(\"Running outside of Google Colab\")\n",
        "    client = OpenAI(api_key=(os.environ.get('OPENAI_API_KEY')))\n",
        "\n",
        "from openai import OpenAI\n",
        "client = OpenAI(api_key=userdata.get('OPENAI_API_KEY'))"
      ],
      "metadata": {
        "colab": {
          "base_uri": "https://localhost:8080/"
        },
        "id": "8DWsynJMzX29",
        "outputId": "ca704f5b-fd0f-40e6-efbb-5892e3e8240e"
      },
      "execution_count": 19,
      "outputs": [
        {
          "output_type": "stream",
          "name": "stdout",
          "text": [
            "Running on Google Colab\n",
            "Requirement already satisfied: openai in /usr/local/lib/python3.10/dist-packages (1.14.1)\n",
            "Requirement already satisfied: anyio<5,>=3.5.0 in /usr/local/lib/python3.10/dist-packages (from openai) (3.7.1)\n",
            "Requirement already satisfied: distro<2,>=1.7.0 in /usr/lib/python3/dist-packages (from openai) (1.7.0)\n",
            "Requirement already satisfied: httpx<1,>=0.23.0 in /usr/local/lib/python3.10/dist-packages (from openai) (0.27.0)\n",
            "Requirement already satisfied: pydantic<3,>=1.9.0 in /usr/local/lib/python3.10/dist-packages (from openai) (2.6.4)\n",
            "Requirement already satisfied: sniffio in /usr/local/lib/python3.10/dist-packages (from openai) (1.3.1)\n",
            "Requirement already satisfied: tqdm>4 in /usr/local/lib/python3.10/dist-packages (from openai) (4.66.2)\n",
            "Requirement already satisfied: typing-extensions<5,>=4.7 in /usr/local/lib/python3.10/dist-packages (from openai) (4.10.0)\n",
            "Requirement already satisfied: idna>=2.8 in /usr/local/lib/python3.10/dist-packages (from anyio<5,>=3.5.0->openai) (3.6)\n",
            "Requirement already satisfied: exceptiongroup in /usr/local/lib/python3.10/dist-packages (from anyio<5,>=3.5.0->openai) (1.2.0)\n",
            "Requirement already satisfied: certifi in /usr/local/lib/python3.10/dist-packages (from httpx<1,>=0.23.0->openai) (2024.2.2)\n",
            "Requirement already satisfied: httpcore==1.* in /usr/local/lib/python3.10/dist-packages (from httpx<1,>=0.23.0->openai) (1.0.4)\n",
            "Requirement already satisfied: h11<0.15,>=0.13 in /usr/local/lib/python3.10/dist-packages (from httpcore==1.*->httpx<1,>=0.23.0->openai) (0.14.0)\n",
            "Requirement already satisfied: annotated-types>=0.4.0 in /usr/local/lib/python3.10/dist-packages (from pydantic<3,>=1.9.0->openai) (0.6.0)\n",
            "Requirement already satisfied: pydantic-core==2.16.3 in /usr/local/lib/python3.10/dist-packages (from pydantic<3,>=1.9.0->openai) (2.16.3)\n",
            "Requirement already satisfied: pydub in /usr/local/lib/python3.10/dist-packages (0.25.1)\n",
            "  % Total    % Received % Xferd  Average Speed   Time    Time     Time  Current\n",
            "                                 Dload  Upload   Total   Spent    Left  Speed\n",
            "100 64.1M  100 64.1M    0     0  44.5M      0  0:00:01  0:00:01 --:--:-- 44.5M\n"
          ]
        }
      ]
    },
    {
      "cell_type": "code",
      "source": [
        "canadianMetric = {}\n",
        "\n",
        "canadianMetric[0] = \"not Canadian\"\n",
        "canadianMetric[1] = \"somewhat Canadian\"\n",
        "canadianMetric[2] = \"slightly Canadian\"\n",
        "canadianMetric[3] = \"moderately Canadian\"\n",
        "canadianMetric[4] = \"very Canadian\"\n",
        "canadianMetric[5] = \"as Canadian as possible\""
      ],
      "metadata": {
        "id": "V8VydbPVFggt"
      },
      "execution_count": 10,
      "outputs": []
    },
    {
      "cell_type": "code",
      "source": [
        "gpt_mode = \"gpt-4-vision-preview\"\n",
        "imagePrompt = \"You are a Canadian weatherperson. Present this jet stream information to an audience. Make it sound very Canadian. It should sound as Canadian as absolutely possible.\"\n",
        "image_url = \"https://weather.gc.ca/data/jet_stream/tempmapwx_e.gif\"\n",
        "\n",
        "response = client.chat.completions.create(\n",
        "  model=\"gpt-4-vision-preview\",\n",
        "  messages=[\n",
        "    {\n",
        "      \"role\": \"user\",\n",
        "      \"content\": [\n",
        "        {\"type\": \"text\", \"text\": imagePrompt},\n",
        "        {\n",
        "          \"type\": \"image_url\",\n",
        "          \"image_url\": {\n",
        "            \"url\": image_url,\n",
        "          },\n",
        "        },\n",
        "      ],\n",
        "    }\n",
        "  ],\n",
        "  max_tokens=600,\n",
        "  temperature=0.7,\n",
        "  top_p=1,\n",
        "  frequency_penalty=0,\n",
        "  presence_penalty=0\n",
        ")\n",
        "\n",
        "print(response.choices[0])"
      ],
      "metadata": {
        "colab": {
          "base_uri": "https://localhost:8080/"
        },
        "id": "1ChT820dxzsj",
        "outputId": "a8f9f144-fdfa-4eb0-f17e-872bf30365d2"
      },
      "execution_count": 5,
      "outputs": [
        {
          "output_type": "stream",
          "name": "stdout",
          "text": [
            "Choice(finish_reason='stop', index=0, logprobs=None, message=ChatCompletionMessage(content=\"Alrighty folks, grab yourself a double-double and let's take a look at the ole jet stream, eh? Now, we've got some classic Canadian weather on the map today, and by that, I mean it's all over the place, just like the hockey standings, am I right?\\n\\nFirst off, we've got a big ol' high-pressure system sitting like a friendly moose over the Prairies, eh, with a temperature colder than a polar bear's toenails, especially in the blue areas. So you might want to keep your toque handy and maybe throw on an extra flannel layer if you're heading out for a rip.\\n\\nNow, those red arrows are showing us the path of the jet stream, swooping down faster than a loon dives for a fish. This is pushing some chilly air right from the true north strong and free down into our neighbours to the south. So don't be surprised if you hear our American buddies talkin' about a Canadian chill, eh?\\n\\nOver in the Atlantic provinces, watch out for some snow, as indicated by the white regions on the map. Perfect for firing up the Ski-Doo or building a snowman, just watch out for the nippy wind chills.\\n\\nAnd for all my friends in the brownish areas, you're in for a milder spell. It's not quite patio season, but it's a good time to lace up the skates and hit the outdoor rink without your face feeling like it's being kissed by a snowblower.\\n\\nRemember, this jet stream map is valid for Tuesday, March 19, 2024, at 18:00 UTC, so plan your day accordingly and always stay prepared, like a good ol' Canadian Scout. Keep warm, keep safe, and keep being awesome, Canada!\", role='assistant', function_call=None, tool_calls=None))\n"
          ]
        }
      ]
    },
    {
      "cell_type": "code",
      "source": [
        "weatherScript = response.choices[0].message.content\n",
        "print(weatherScript)"
      ],
      "metadata": {
        "colab": {
          "base_uri": "https://localhost:8080/"
        },
        "id": "4no0kaGL0tAT",
        "outputId": "40c99704-b4b8-4eeb-ce71-1ebce3261241"
      },
      "execution_count": 14,
      "outputs": [
        {
          "output_type": "stream",
          "name": "stdout",
          "text": [
            "Alrighty folks, grab yourself a double-double and let's take a look at the ole jet stream, eh? Now, we've got some classic Canadian weather on the map today, and by that, I mean it's all over the place, just like the hockey standings, am I right?\n",
            "\n",
            "First off, we've got a big ol' high-pressure system sitting like a friendly moose over the Prairies, eh, with a temperature colder than a polar bear's toenails, especially in the blue areas. So you might want to keep your toque handy and maybe throw on an extra flannel layer if you're heading out for a rip.\n",
            "\n",
            "Now, those red arrows are showing us the path of the jet stream, swooping down faster than a loon dives for a fish. This is pushing some chilly air right from the true north strong and free down into our neighbours to the south. So don't be surprised if you hear our American buddies talkin' about a Canadian chill, eh?\n",
            "\n",
            "Over in the Atlantic provinces, watch out for some snow, as indicated by the white regions on the map. Perfect for firing up the Ski-Doo or building a snowman, just watch out for the nippy wind chills.\n",
            "\n",
            "And for all my friends in the brownish areas, you're in for a milder spell. It's not quite patio season, but it's a good time to lace up the skates and hit the outdoor rink without your face feeling like it's being kissed by a snowblower.\n",
            "\n",
            "Remember, this jet stream map is valid for Tuesday, March 19, 2024, at 18:00 UTC, so plan your day accordingly and always stay prepared, like a good ol' Canadian Scout. Keep warm, keep safe, and keep being awesome, Canada!\n"
          ]
        }
      ]
    },
    {
      "cell_type": "code",
      "source": [
        "# Save the weatherScript as a file\n",
        "from datetime import datetime\n",
        "\n",
        "date = datetime.now().strftime(\"%Y-%m-%d\")\n",
        "count = 0\n",
        "\n",
        "while os.path.exists(f\"/content/text/ai-canadian-jetstream-{date}_{count}.txt\"):\n",
        "    count += 1\n",
        "file = open(f\"/content/text/ai-canadian-jetstream-{date}_{count}.txt\", \"w\")\n",
        "file.write(weatherScript)\n",
        "file.close()"
      ],
      "metadata": {
        "id": "4xmiS2I3a3Sp"
      },
      "execution_count": 15,
      "outputs": []
    },
    {
      "cell_type": "code",
      "source": [
        "from openai import OpenAI\n",
        "\n",
        "try:\n",
        "    # Attempt to import the google.colab module to see if the program is running in Colab.\n",
        "    from google.colab import userdata\n",
        "    print(\"Running on Google Colab\")\n",
        "    audioClient = OpenAI(api_key=userdata.get('OPENAI_API_KEY'))\n",
        "\n",
        "except ImportError:\n",
        "    # The ImportError exception will be raised if the google.colab module is not found,\n",
        "    # indicating that the program is not running inside Google Colab.\n",
        "    import os\n",
        "    print(\"Running outside of Google Colab\")\n",
        "    audioClient = OpenAI(api_key=(os.environ.get('OPENAI_API_KEY')))\n",
        "\n",
        "audioResponse = audioClient.audio.speech.create(\n",
        "    model=\"tts-1\",\n",
        "    voice=\"onyx\",\n",
        "    input=weatherScript,\n",
        ")\n",
        "\n",
        "filename = f\"weatherperson-output-{date}.mp3\""
      ],
      "metadata": {
        "id": "3ZH_07Z71B7C",
        "colab": {
          "base_uri": "https://localhost:8080/"
        },
        "outputId": "75b8a448-1d05-463f-c1ea-66f590b2f3cf"
      },
      "execution_count": 16,
      "outputs": [
        {
          "output_type": "stream",
          "name": "stdout",
          "text": [
            "Running on Google Colab\n"
          ]
        }
      ]
    },
    {
      "cell_type": "code",
      "source": [
        "audioResponse.stream_to_file(filename)"
      ],
      "metadata": {
        "colab": {
          "base_uri": "https://localhost:8080/"
        },
        "id": "h3cSZyLe2GXl",
        "outputId": "6f8334f6-5719-464e-ff90-a5850bcc787d"
      },
      "execution_count": 17,
      "outputs": [
        {
          "output_type": "stream",
          "name": "stderr",
          "text": [
            "<ipython-input-17-02f298be9c94>:1: DeprecationWarning: Due to a bug, this method doesn't actually stream the response content, `.with_streaming_response.method()` should be used instead\n",
            "  audioResponse.stream_to_file(filename)\n"
          ]
        }
      ]
    },
    {
      "cell_type": "code",
      "source": [
        "from pydub import AudioSegment\n",
        "\n",
        "# Export the result\n",
        "weatherPersonFileCount = 0\n",
        "while os.path.exists(f\"/content/weatherperson-output-{date}_{weatherPersonFileCount}.wav\"):\n",
        "    weatherPersonFileCount += 1\n",
        "\n",
        "weatherpersonFile = f\"/content/{filename}-{count}\"\n",
        "audioResponse.stream_to_file(f\"/content/weatherperson-output-{date}_{weatherPersonFileCount}.wav\")\n",
        "\n",
        "# Obtain Audio Files\n",
        "audio_bg_music = AudioSegment.from_file(\"/content/assets/WeatherNetwork.mp3\", format=\"mp3\")\n",
        "audio_weatherperson = AudioSegment.from_file(f\"/content/weatherperson-output-{date}_{weatherPersonFileCount}.wav\", format=\"mp3\")\n",
        "\n",
        "# Define start and end times in milliseconds\n",
        "# Start at 17:22\n",
        "# End at 17:3\n",
        "start_time = 1042000  # Start at 10 seconds\n",
        "end_time = start_time + 120000\n",
        "\n",
        "# Slice the audio segment to the desired part\n",
        "specific_part = audio_bg_music[start_time:end_time]\n",
        "\n",
        "# Lower the volume by 10 dB\n",
        "specific_part_quieter = specific_part - 5\n",
        "\n",
        "# Overlay the audio files\n",
        "# Here, overlay_audio will start at 0 milliseconds into base_audio\n",
        "combined = specific_part_quieter.overlay(audio_weatherperson, position=0)\n",
        "\n",
        "# Export the result\n",
        "count = 0\n",
        "while os.path.exists(f\"/content/voice/ai-canadian-jetstream-{date}_{count}.wav\"):\n",
        "    count += 1\n",
        "combined.export(f\"/content/voice/ai-canadian-jetstream-{date}_{count}.mp3\", format=\"mp3\")\n"
      ],
      "metadata": {
        "colab": {
          "base_uri": "https://localhost:8080/"
        },
        "id": "PSjR8yY93MMI",
        "outputId": "7a88025d-6f0a-4eb2-98af-23eafcba7631"
      },
      "execution_count": 20,
      "outputs": [
        {
          "output_type": "stream",
          "name": "stderr",
          "text": [
            "<ipython-input-20-abb7955a0c2c>:9: DeprecationWarning: Due to a bug, this method doesn't actually stream the response content, `.with_streaming_response.method()` should be used instead\n",
            "  audioResponse.stream_to_file(f\"/content/weatherperson-output-{date}_{weatherPersonFileCount}.wav\")\n"
          ]
        },
        {
          "output_type": "execute_result",
          "data": {
            "text/plain": [
              "<_io.BufferedRandom name='/content/voice/ai-canadian-jetstream-2024-03-19_0.mp3'>"
            ]
          },
          "metadata": {},
          "execution_count": 20
        }
      ]
    }
  ]
}